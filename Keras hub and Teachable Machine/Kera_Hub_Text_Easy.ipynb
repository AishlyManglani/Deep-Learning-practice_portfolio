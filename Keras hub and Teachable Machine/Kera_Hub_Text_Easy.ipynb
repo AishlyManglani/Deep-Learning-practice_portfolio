{
  "nbformat": 4,
  "nbformat_minor": 0,
  "metadata": {
    "colab": {
      "provenance": []
    },
    "kernelspec": {
      "name": "python3",
      "display_name": "Python 3"
    },
    "language_info": {
      "name": "python"
    }
  },
  "cells": [
    {
      "cell_type": "code",
      "execution_count": 1,
      "metadata": {
        "colab": {
          "base_uri": "https://localhost:8080/"
        },
        "id": "Pq5eoXgGSVD_",
        "outputId": "94ad7f99-a9b8-4c8d-ae66-14a5395269b2"
      },
      "outputs": [
        {
          "output_type": "stream",
          "name": "stdout",
          "text": [
            "Downloading data from https://storage.googleapis.com/tensorflow/tf-keras-datasets/imdb.npz\n",
            "\u001b[1m17464789/17464789\u001b[0m \u001b[32m━━━━━━━━━━━━━━━━━━━━\u001b[0m\u001b[37m\u001b[0m \u001b[1m0s\u001b[0m 0us/step\n",
            "Epoch 1/5\n"
          ]
        },
        {
          "output_type": "stream",
          "name": "stderr",
          "text": [
            "/usr/local/lib/python3.11/dist-packages/keras/src/layers/core/embedding.py:90: UserWarning: Argument `input_length` is deprecated. Just remove it.\n",
            "  warnings.warn(\n"
          ]
        },
        {
          "output_type": "stream",
          "name": "stdout",
          "text": [
            "\u001b[1m40/40\u001b[0m \u001b[32m━━━━━━━━━━━━━━━━━━━━\u001b[0m\u001b[37m\u001b[0m \u001b[1m3s\u001b[0m 35ms/step - accuracy: 0.5007 - loss: 0.6909 - val_accuracy: 0.5062 - val_loss: 0.6773\n",
            "Epoch 2/5\n",
            "\u001b[1m40/40\u001b[0m \u001b[32m━━━━━━━━━━━━━━━━━━━━\u001b[0m\u001b[37m\u001b[0m \u001b[1m2s\u001b[0m 47ms/step - accuracy: 0.4979 - loss: 0.6711 - val_accuracy: 0.5068 - val_loss: 0.6464\n",
            "Epoch 3/5\n",
            "\u001b[1m40/40\u001b[0m \u001b[32m━━━━━━━━━━━━━━━━━━━━\u001b[0m\u001b[37m\u001b[0m \u001b[1m3s\u001b[0m 63ms/step - accuracy: 0.5127 - loss: 0.6366 - val_accuracy: 0.5852 - val_loss: 0.5969\n",
            "Epoch 4/5\n",
            "\u001b[1m40/40\u001b[0m \u001b[32m━━━━━━━━━━━━━━━━━━━━\u001b[0m\u001b[37m\u001b[0m \u001b[1m3s\u001b[0m 20ms/step - accuracy: 0.6026 - loss: 0.5815 - val_accuracy: 0.7528 - val_loss: 0.5392\n",
            "Epoch 5/5\n",
            "\u001b[1m40/40\u001b[0m \u001b[32m━━━━━━━━━━━━━━━━━━━━\u001b[0m\u001b[37m\u001b[0m \u001b[1m1s\u001b[0m 19ms/step - accuracy: 0.7263 - loss: 0.5146 - val_accuracy: 0.7438 - val_loss: 0.4776\n",
            "\u001b[1m782/782\u001b[0m \u001b[32m━━━━━━━━━━━━━━━━━━━━\u001b[0m\u001b[37m\u001b[0m \u001b[1m2s\u001b[0m 2ms/step - accuracy: 0.7388 - loss: 0.4814\n",
            "Test accuracy: 0.733\n",
            "\u001b[1m1/1\u001b[0m \u001b[32m━━━━━━━━━━━━━━━━━━━━\u001b[0m\u001b[37m\u001b[0m \u001b[1m0s\u001b[0m 83ms/step\n",
            "Predictions: [-0.39121068  1.6034985   0.00801477 -0.17339984  0.23511323]\n",
            "Actual labels: [0 1 1 0 1]\n"
          ]
        }
      ],
      "source": [
        "import tensorflow as tf\n",
        "import tensorflow_hub as hub\n",
        "import numpy as np\n",
        "\n",
        "# Download the IMDB dataset\n",
        "(train_data, train_labels), (test_data, test_labels) = tf.keras.datasets.imdb.load_data(num_words=10000)\n",
        "\n",
        "# Pad sequences to ensure uniform length\n",
        "max_length = 256\n",
        "train_data = tf.keras.preprocessing.sequence.pad_sequences(train_data, maxlen=max_length)\n",
        "test_data = tf.keras.preprocessing.sequence.pad_sequences(test_data, maxlen=max_length)\n",
        "\n",
        "# Create a simple model with an embedding layer instead of using Hub directly\n",
        "model = tf.keras.Sequential([\n",
        "    tf.keras.layers.Embedding(10000, 16, input_length=max_length),\n",
        "    tf.keras.layers.GlobalAveragePooling1D(),\n",
        "    tf.keras.layers.Dense(16, activation='relu'),\n",
        "    tf.keras.layers.Dense(1)\n",
        "])\n",
        "\n",
        "# Compile the model\n",
        "model.compile(optimizer='adam',\n",
        "              loss=tf.keras.losses.BinaryCrossentropy(from_logits=True),\n",
        "              metrics=['accuracy'])\n",
        "\n",
        "# Train the model\n",
        "history = model.fit(\n",
        "    train_data, train_labels,\n",
        "    epochs=5,  # Using fewer epochs for quicker execution\n",
        "    batch_size=512,\n",
        "    validation_split=0.2\n",
        ")\n",
        "\n",
        "# Evaluate the model\n",
        "results = model.evaluate(test_data, test_labels)\n",
        "print(f\"Test accuracy: {results[1]:.3f}\")\n",
        "\n",
        "# Make predictions on a few examples\n",
        "predictions = model.predict(test_data[:5])\n",
        "print(\"Predictions:\", predictions.flatten())\n",
        "print(\"Actual labels:\", test_labels[:5])\n"
      ]
    },
    {
      "cell_type": "code",
      "source": [
        "# Function to predict sentiment of new text\n",
        "def predict_sentiment(text, word_index):\n",
        "    # Convert text to sequence of integers\n",
        "    words = text.lower().split()\n",
        "    sequence = [word_index.get(word, 0) for word in words]\n",
        "    # Pad sequence to required length\n",
        "    padded = tf.keras.preprocessing.sequence.pad_sequences([sequence], maxlen=max_length)\n",
        "    # Get prediction\n",
        "    prediction = model.predict(padded)[0][0]\n",
        "    # Flip the interpretation if needed\n",
        "    return {\n",
        "        'text': text,\n",
        "        'sentiment': 'Negative' if prediction < 0 else 'Positive',\n",
        "        'confidence': float(abs(prediction))\n",
        "    }\n",
        "\n",
        "\n",
        "# Get the word index for encoding new text\n",
        "word_index = tf.keras.datasets.imdb.get_word_index()\n",
        "word_index = {k:(v+3) for k,v in word_index.items()}\n",
        "word_index[\"<PAD>\"] = 0\n",
        "word_index[\"<START>\"] = 1\n",
        "word_index[\"<UNK>\"] = 2\n",
        "word_index[\"<UNUSED>\"] = 3\n",
        "\n",
        "# Test with some example reviews\n",
        "example_reviews = [\n",
        "    \"This movie was excellent! I loved every minute of it.\",\n",
        "    \"I hated this movie. The plot was terrible and the acting was worse.\",\n",
        "    \"The film was okay, but I've seen better.\"\n",
        "]\n",
        "\n",
        "for review in example_reviews:\n",
        "    result = predict_sentiment(review, word_index)\n",
        "    print(f\"Text: {result['text']}\")\n",
        "    print(f\"Sentiment: {result['sentiment']} (confidence: {result['confidence']:.2f})\")\n",
        "    print(\"-\" * 50)"
      ],
      "metadata": {
        "colab": {
          "base_uri": "https://localhost:8080/"
        },
        "id": "HKhF9Y4pSz1v",
        "outputId": "47122f6c-3d0b-4090-de74-1154ae86e5ad"
      },
      "execution_count": 5,
      "outputs": [
        {
          "output_type": "stream",
          "name": "stdout",
          "text": [
            "\u001b[1m1/1\u001b[0m \u001b[32m━━━━━━━━━━━━━━━━━━━━\u001b[0m\u001b[37m\u001b[0m \u001b[1m0s\u001b[0m 37ms/step\n",
            "Text: This movie was excellent! I loved every minute of it.\n",
            "Sentiment: Positive (confidence: 0.05)\n",
            "--------------------------------------------------\n",
            "\u001b[1m1/1\u001b[0m \u001b[32m━━━━━━━━━━━━━━━━━━━━\u001b[0m\u001b[37m\u001b[0m \u001b[1m0s\u001b[0m 34ms/step\n",
            "Text: I hated this movie. The plot was terrible and the acting was worse.\n",
            "Sentiment: Negative (confidence: 0.20)\n",
            "--------------------------------------------------\n",
            "\u001b[1m1/1\u001b[0m \u001b[32m━━━━━━━━━━━━━━━━━━━━\u001b[0m\u001b[37m\u001b[0m \u001b[1m0s\u001b[0m 38ms/step\n",
            "Text: The film was okay, but I've seen better.\n",
            "Sentiment: Positive (confidence: 0.09)\n",
            "--------------------------------------------------\n"
          ]
        }
      ]
    }
  ]
}