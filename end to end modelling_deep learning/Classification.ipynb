{
  "nbformat": 4,
  "nbformat_minor": 0,
  "metadata": {
    "colab": {
      "provenance": [],
      "authorship_tag": "ABX9TyOyMtoh1+ic1og06lABXSom",
      "include_colab_link": true
    },
    "kernelspec": {
      "name": "python3",
      "display_name": "Python 3"
    },
    "language_info": {
      "name": "python"
    }
  },
  "cells": [
    {
      "cell_type": "markdown",
      "metadata": {
        "id": "view-in-github",
        "colab_type": "text"
      },
      "source": [
        "<a href=\"https://colab.research.google.com/github/AishlyManglani/Deep-Learning_-CMPE258/blob/main/end%20to%20end%20modelling_deep%20learning/Classification.ipynb\" target=\"_parent\"><img src=\"https://colab.research.google.com/assets/colab-badge.svg\" alt=\"Open In Colab\"/></a>"
      ]
    },
    {
      "cell_type": "code",
      "source": [
        "import tensorflow as tf\n",
        "import pandas as pd\n",
        "import numpy as np\n",
        "import matplotlib.pyplot as plt\n",
        "import seaborn as sns\n",
        "from sklearn.model_selection import train_test_split\n",
        "from sklearn.preprocessing import StandardScaler, LabelEncoder\n",
        "from sklearn.metrics import classification_report, roc_curve, auc, precision_recall_curve\n",
        "from tensorflow.keras.models import Sequential\n",
        "from tensorflow.keras.layers import Dense, Dropout\n",
        "from tensorflow.keras.callbacks import TensorBoard\n",
        "import datetime\n"
      ],
      "metadata": {
        "id": "Q93HuyAbY9Ot"
      },
      "execution_count": 1,
      "outputs": []
    },
    {
      "cell_type": "code",
      "source": [
        "\n",
        "# Load dataset\n",
        "url = \"/content/adult.data\"\n",
        "column_names = [\"age\", \"workclass\", \"fnlwgt\", \"education\", \"education-num\", \"marital-status\", \"occupation\", \"relationship\", \"race\", \"sex\", \"capital-gain\", \"capital-loss\", \"hours-per-week\", \"native-country\", \"income\"]\n",
        "data = pd.read_csv(url, names=column_names, na_values=\" ?\")\n",
        "data.dropna(inplace=True)\n",
        "\n",
        "data['income'] = LabelEncoder().fit_transform(data['income'])\n",
        "categorical_features = [\"workclass\", \"education\", \"marital-status\", \"occupation\", \"relationship\", \"race\", \"sex\", \"native-country\"]\n",
        "data = pd.get_dummies(data, columns=categorical_features, drop_first=True)\n",
        "\n",
        "# Split data\n",
        "X = data.drop(\"income\", axis=1)\n",
        "y = data[\"income\"]\n",
        "X_train, X_test, y_train, y_test = train_test_split(X, y, test_size=0.2, random_state=42)\n",
        "\n",
        "# Scale data\n",
        "scaler = StandardScaler()\n",
        "X_train = scaler.fit_transform(X_train)\n",
        "X_test = scaler.transform(X_test)"
      ],
      "metadata": {
        "id": "tD9466qbZO_F"
      },
      "execution_count": 2,
      "outputs": []
    },
    {
      "cell_type": "code",
      "source": [
        "# Build model\n",
        "model = Sequential([\n",
        "    Dense(64, activation='relu', input_shape=(X_train.shape[1],)),\n",
        "    Dropout(0.3),\n",
        "    Dense(32, activation='relu'),\n",
        "    Dropout(0.3),\n",
        "    Dense(1, activation='sigmoid')\n",
        "])\n",
        "\n",
        "model.compile(optimizer='adam', loss='binary_crossentropy', metrics=['accuracy'])\n"
      ],
      "metadata": {
        "colab": {
          "base_uri": "https://localhost:8080/"
        },
        "id": "Q9VEJvqEU7ej",
        "outputId": "6d125da1-a707-4066-c73c-e3be5b1838d6"
      },
      "execution_count": 3,
      "outputs": [
        {
          "output_type": "stream",
          "name": "stderr",
          "text": [
            "/usr/local/lib/python3.11/dist-packages/keras/src/layers/core/dense.py:87: UserWarning: Do not pass an `input_shape`/`input_dim` argument to a layer. When using Sequential models, prefer using an `Input(shape)` object as the first layer in the model instead.\n",
            "  super().__init__(activity_regularizer=activity_regularizer, **kwargs)\n"
          ]
        }
      ]
    },
    {
      "cell_type": "code",
      "source": [
        "# TensorBoard setup\n",
        "log_dir = \"logs/\" + datetime.datetime.now().strftime(\"%Y%m%d-%H%M%S\")\n",
        "tensorboard_callback = TensorBoard(log_dir=log_dir, histogram_freq=1)\n",
        "\n",
        "# Train model\n",
        "history = model.fit(X_train, y_train, epochs=20, validation_data=(X_test, y_test), callbacks=[tensorboard_callback])\n",
        "\n",
        "# Predictions\n",
        "y_pred = (model.predict(X_test) > 0.5).astype(\"int32\")\n",
        "\n",
        "# Classification Report\n",
        "print(classification_report(y_test, y_pred))"
      ],
      "metadata": {
        "colab": {
          "base_uri": "https://localhost:8080/"
        },
        "id": "AzG_IsYyU_Bn",
        "outputId": "a378e7cc-891a-4ab5-d1b8-501b777207ee"
      },
      "execution_count": 4,
      "outputs": [
        {
          "output_type": "stream",
          "name": "stdout",
          "text": [
            "Epoch 1/20\n",
            "\u001b[1m755/755\u001b[0m \u001b[32m━━━━━━━━━━━━━━━━━━━━\u001b[0m\u001b[37m\u001b[0m \u001b[1m9s\u001b[0m 4ms/step - accuracy: 0.7767 - loss: 0.4668 - val_accuracy: 0.8420 - val_loss: 0.3438\n",
            "Epoch 2/20\n",
            "\u001b[1m755/755\u001b[0m \u001b[32m━━━━━━━━━━━━━━━━━━━━\u001b[0m\u001b[37m\u001b[0m \u001b[1m4s\u001b[0m 5ms/step - accuracy: 0.8351 - loss: 0.3550 - val_accuracy: 0.8475 - val_loss: 0.3302\n",
            "Epoch 3/20\n",
            "\u001b[1m755/755\u001b[0m \u001b[32m━━━━━━━━━━━━━━━━━━━━\u001b[0m\u001b[37m\u001b[0m \u001b[1m5s\u001b[0m 5ms/step - accuracy: 0.8392 - loss: 0.3424 - val_accuracy: 0.8472 - val_loss: 0.3306\n",
            "Epoch 4/20\n",
            "\u001b[1m755/755\u001b[0m \u001b[32m━━━━━━━━━━━━━━━━━━━━\u001b[0m\u001b[37m\u001b[0m \u001b[1m4s\u001b[0m 4ms/step - accuracy: 0.8452 - loss: 0.3289 - val_accuracy: 0.8521 - val_loss: 0.3201\n",
            "Epoch 5/20\n",
            "\u001b[1m755/755\u001b[0m \u001b[32m━━━━━━━━━━━━━━━━━━━━\u001b[0m\u001b[37m\u001b[0m \u001b[1m3s\u001b[0m 4ms/step - accuracy: 0.8533 - loss: 0.3183 - val_accuracy: 0.8531 - val_loss: 0.3197\n",
            "Epoch 6/20\n",
            "\u001b[1m755/755\u001b[0m \u001b[32m━━━━━━━━━━━━━━━━━━━━\u001b[0m\u001b[37m\u001b[0m \u001b[1m5s\u001b[0m 6ms/step - accuracy: 0.8510 - loss: 0.3231 - val_accuracy: 0.8543 - val_loss: 0.3181\n",
            "Epoch 7/20\n",
            "\u001b[1m755/755\u001b[0m \u001b[32m━━━━━━━━━━━━━━━━━━━━\u001b[0m\u001b[37m\u001b[0m \u001b[1m4s\u001b[0m 4ms/step - accuracy: 0.8546 - loss: 0.3220 - val_accuracy: 0.8541 - val_loss: 0.3161\n",
            "Epoch 8/20\n",
            "\u001b[1m755/755\u001b[0m \u001b[32m━━━━━━━━━━━━━━━━━━━━\u001b[0m\u001b[37m\u001b[0m \u001b[1m5s\u001b[0m 5ms/step - accuracy: 0.8511 - loss: 0.3184 - val_accuracy: 0.8545 - val_loss: 0.3147\n",
            "Epoch 9/20\n",
            "\u001b[1m755/755\u001b[0m \u001b[32m━━━━━━━━━━━━━━━━━━━━\u001b[0m\u001b[37m\u001b[0m \u001b[1m5s\u001b[0m 5ms/step - accuracy: 0.8516 - loss: 0.3137 - val_accuracy: 0.8576 - val_loss: 0.3155\n",
            "Epoch 10/20\n",
            "\u001b[1m755/755\u001b[0m \u001b[32m━━━━━━━━━━━━━━━━━━━━\u001b[0m\u001b[37m\u001b[0m \u001b[1m4s\u001b[0m 4ms/step - accuracy: 0.8528 - loss: 0.3179 - val_accuracy: 0.8553 - val_loss: 0.3180\n",
            "Epoch 11/20\n",
            "\u001b[1m755/755\u001b[0m \u001b[32m━━━━━━━━━━━━━━━━━━━━\u001b[0m\u001b[37m\u001b[0m \u001b[1m4s\u001b[0m 5ms/step - accuracy: 0.8514 - loss: 0.3177 - val_accuracy: 0.8538 - val_loss: 0.3149\n",
            "Epoch 12/20\n",
            "\u001b[1m755/755\u001b[0m \u001b[32m━━━━━━━━━━━━━━━━━━━━\u001b[0m\u001b[37m\u001b[0m \u001b[1m3s\u001b[0m 4ms/step - accuracy: 0.8588 - loss: 0.3099 - val_accuracy: 0.8560 - val_loss: 0.3154\n",
            "Epoch 13/20\n",
            "\u001b[1m755/755\u001b[0m \u001b[32m━━━━━━━━━━━━━━━━━━━━\u001b[0m\u001b[37m\u001b[0m \u001b[1m3s\u001b[0m 4ms/step - accuracy: 0.8576 - loss: 0.3095 - val_accuracy: 0.8550 - val_loss: 0.3148\n",
            "Epoch 14/20\n",
            "\u001b[1m755/755\u001b[0m \u001b[32m━━━━━━━━━━━━━━━━━━━━\u001b[0m\u001b[37m\u001b[0m \u001b[1m4s\u001b[0m 5ms/step - accuracy: 0.8588 - loss: 0.3091 - val_accuracy: 0.8560 - val_loss: 0.3144\n",
            "Epoch 15/20\n",
            "\u001b[1m755/755\u001b[0m \u001b[32m━━━━━━━━━━━━━━━━━━━━\u001b[0m\u001b[37m\u001b[0m \u001b[1m4s\u001b[0m 6ms/step - accuracy: 0.8617 - loss: 0.3063 - val_accuracy: 0.8551 - val_loss: 0.3165\n",
            "Epoch 16/20\n",
            "\u001b[1m755/755\u001b[0m \u001b[32m━━━━━━━━━━━━━━━━━━━━\u001b[0m\u001b[37m\u001b[0m \u001b[1m4s\u001b[0m 5ms/step - accuracy: 0.8591 - loss: 0.3054 - val_accuracy: 0.8570 - val_loss: 0.3125\n",
            "Epoch 17/20\n",
            "\u001b[1m755/755\u001b[0m \u001b[32m━━━━━━━━━━━━━━━━━━━━\u001b[0m\u001b[37m\u001b[0m \u001b[1m3s\u001b[0m 4ms/step - accuracy: 0.8604 - loss: 0.3021 - val_accuracy: 0.8536 - val_loss: 0.3142\n",
            "Epoch 18/20\n",
            "\u001b[1m755/755\u001b[0m \u001b[32m━━━━━━━━━━━━━━━━━━━━\u001b[0m\u001b[37m\u001b[0m \u001b[1m6s\u001b[0m 5ms/step - accuracy: 0.8619 - loss: 0.2990 - val_accuracy: 0.8551 - val_loss: 0.3171\n",
            "Epoch 19/20\n",
            "\u001b[1m755/755\u001b[0m \u001b[32m━━━━━━━━━━━━━━━━━━━━\u001b[0m\u001b[37m\u001b[0m \u001b[1m4s\u001b[0m 5ms/step - accuracy: 0.8548 - loss: 0.3111 - val_accuracy: 0.8541 - val_loss: 0.3156\n",
            "Epoch 20/20\n",
            "\u001b[1m755/755\u001b[0m \u001b[32m━━━━━━━━━━━━━━━━━━━━\u001b[0m\u001b[37m\u001b[0m \u001b[1m6s\u001b[0m 5ms/step - accuracy: 0.8631 - loss: 0.2988 - val_accuracy: 0.8538 - val_loss: 0.3172\n",
            "\u001b[1m189/189\u001b[0m \u001b[32m━━━━━━━━━━━━━━━━━━━━\u001b[0m\u001b[37m\u001b[0m \u001b[1m0s\u001b[0m 2ms/step\n",
            "              precision    recall  f1-score   support\n",
            "\n",
            "           0       0.88      0.94      0.91      4503\n",
            "           1       0.77      0.61      0.68      1530\n",
            "\n",
            "    accuracy                           0.85      6033\n",
            "   macro avg       0.82      0.77      0.79      6033\n",
            "weighted avg       0.85      0.85      0.85      6033\n",
            "\n"
          ]
        }
      ]
    },
    {
      "cell_type": "code",
      "source": [
        "# ROC and PR curves\n",
        "fpr, tpr, _ = roc_curve(y_test, model.predict(X_test))\n",
        "roc_auc = auc(fpr, tpr)\n",
        "precision, recall, _ = precision_recall_curve(y_test, model.predict(X_test))\n",
        "\n",
        "plt.figure(figsize=(12, 5))\n",
        "plt.subplot(1, 2, 1)\n",
        "plt.plot(fpr, tpr, label=f'AUC = {roc_auc:.2f}')\n",
        "plt.xlabel('False Positive Rate')\n",
        "plt.ylabel('True Positive Rate')\n",
        "plt.title('ROC Curve')\n",
        "plt.legend()\n",
        "\n",
        "plt.subplot(1, 2, 2)\n",
        "plt.plot(recall, precision, label='Precision-Recall Curve')\n",
        "plt.xlabel('Recall')\n",
        "plt.ylabel('Precision')\n",
        "plt.title('PR Curve')\n",
        "plt.legend()\n",
        "\n",
        "plt.show()"
      ],
      "metadata": {
        "colab": {
          "base_uri": "https://localhost:8080/",
          "height": 522
        },
        "id": "ry5ObX5KVBjo",
        "outputId": "85a2d890-0f5e-4b38-88d5-427c304b7fdb"
      },
      "execution_count": 5,
      "outputs": [
        {
          "output_type": "stream",
          "name": "stdout",
          "text": [
            "\u001b[1m189/189\u001b[0m \u001b[32m━━━━━━━━━━━━━━━━━━━━\u001b[0m\u001b[37m\u001b[0m \u001b[1m0s\u001b[0m 1ms/step\n",
            "\u001b[1m189/189\u001b[0m \u001b[32m━━━━━━━━━━━━━━━━━━━━\u001b[0m\u001b[37m\u001b[0m \u001b[1m0s\u001b[0m 2ms/step\n"
          ]
        },
        {
          "output_type": "display_data",
          "data": {
            "text/plain": [
              "<Figure size 1200x500 with 2 Axes>"
            ],
            "image/png": "[encoded data removed]"
          },
          "metadata": {}
        }
      ]
    },
    {
      "cell_type": "code",
      "source": [
        "# Per-class analysis\n",
        "class_counts = y_test.value_counts()\n",
        "print(\"Per-Class Counts:\\n\", class_counts)\n",
        "\n",
        "misclassified_indices = np.where(y_pred.flatten() != y_test.to_numpy())[0]\n",
        "print(\"Example of misclassified cases:\")\n",
        "print(X_test[misclassified_indices[:5]])"
      ],
      "metadata": {
        "colab": {
          "base_uri": "https://localhost:8080/"
        },
        "id": "PXx8UhUnVD4c",
        "outputId": "fa90316a-76ff-4fd3-8cd3-e682c043f820"
      },
      "execution_count": 6,
      "outputs": [
        {
          "output_type": "stream",
          "name": "stdout",
          "text": [
            "Per-Class Counts:\n",
            " income\n",
            "0    4503\n",
            "1    1530\n",
            "Name: count, dtype: int64\n",
            "Example of misclassified cases:\n",
            "[[-7.88254513e-01 -1.07088298e+00  1.91320112e+00 -1.47741199e-01\n",
            "  -2.18133078e-01  1.16878199e+00 -2.71544113e-01  5.94119061e-01\n",
            "  -1.91434559e-01 -3.01204525e-01 -2.10629087e-01 -2.32176916e-02\n",
            "  -1.90151289e-01 -1.11634384e-01 -7.04007686e-02 -9.52624871e-02\n",
            "  -1.37855652e-01 -1.24792011e-01 -1.89682796e-01 -2.15412874e-01\n",
            "  -4.48047380e-01 -1.12770562e-01 -6.92779599e-01 -2.37562786e-01\n",
            "  -3.86550118e-02  7.36309059e+00 -5.33817501e-01 -2.65526483e-02\n",
            "  -9.34075631e-01 -1.11253207e-01  1.43815363e+00 -1.75754134e-01\n",
            "  -1.67042546e-01 -1.93166852e-02 -3.93202361e-01 -3.87916470e-01\n",
            "  -1.85898256e-01 -2.16988109e-01 -2.66405776e-01 -3.42627670e-01\n",
            "  -6.70527102e-02  2.53913809e+00 -1.47971775e-01 -3.69239690e-01\n",
            "  -1.77500698e-01 -2.33939000e-01  1.70812220e+00 -1.74371044e-01\n",
            "  -4.20401452e-01 -3.43910000e-01 -2.21864400e-01 -1.73865699e-01\n",
            "  -3.19976356e-01 -8.93249439e-02  4.03052380e-01  6.92517562e-01\n",
            "  -6.05013509e-02 -4.82312931e-02 -4.27418202e-02 -5.76761792e-02\n",
            "  -4.90870497e-02 -3.15538279e-02 -5.83951091e-02 -5.43249599e-02\n",
            "  -2.95140668e-02 -6.48338595e-02 -3.22051588e-02 -4.27418202e-02\n",
            "  -3.86550118e-02 -6.43782753e-03 -2.03619962e-02 -2.49408357e-02\n",
            "  -2.23063741e-02 -5.65808888e-02 -3.75643599e-02 -2.95140668e-02\n",
            "  -4.51096854e-02 -5.03436751e-02 -4.17573845e-02 -2.32176916e-02\n",
            "  -1.44721809e-01 -3.28436279e-02 -2.32176916e-02 -3.02092370e-02\n",
            "  -8.09277920e-02 -4.51096854e-02 -3.34699714e-02 -6.08454030e-02\n",
            "  -2.03619962e-02 -4.82312931e-02 -3.70070522e-02 -2.65526483e-02\n",
            "  -2.40946368e-02  3.12683067e-01 -4.55686097e-02 -2.13562845e-02]\n",
            " [ 1.10893629e+00  9.57054072e-01 -4.43448804e-01 -1.47741199e-01\n",
            "  -2.18133078e-01  7.52765023e-01 -2.71544113e-01  5.94119061e-01\n",
            "  -1.91434559e-01 -3.01204525e-01 -2.10629087e-01 -2.32176916e-02\n",
            "  -1.90151289e-01 -1.11634384e-01 -7.04007686e-02 -9.52624871e-02\n",
            "  -1.37855652e-01 -1.24792011e-01 -1.89682796e-01 -2.15412874e-01\n",
            "  -4.48047380e-01 -1.12770562e-01  1.44346052e+00 -2.37562786e-01\n",
            "  -3.86550118e-02 -1.35812535e-01 -5.33817501e-01 -2.65526483e-02\n",
            "   1.07057712e+00 -1.11253207e-01 -6.95336006e-01 -1.75754134e-01\n",
            "  -1.67042546e-01 -1.93166852e-02 -3.93202361e-01 -3.87916470e-01\n",
            "  -1.85898256e-01 -2.16988109e-01 -2.66405776e-01  2.91862008e+00\n",
            "  -6.70527102e-02 -3.93834430e-01 -1.47971775e-01 -3.69239690e-01\n",
            "  -1.77500698e-01 -2.33939000e-01 -5.85438209e-01 -1.74371044e-01\n",
            "  -4.20401452e-01 -3.43910000e-01 -2.21864400e-01 -1.73865699e-01\n",
            "  -3.19976356e-01 -8.93249439e-02  4.03052380e-01  6.92517562e-01\n",
            "  -6.05013509e-02 -4.82312931e-02 -4.27418202e-02 -5.76761792e-02\n",
            "  -4.90870497e-02 -3.15538279e-02 -5.83951091e-02 -5.43249599e-02\n",
            "  -2.95140668e-02  1.54240394e+01 -3.22051588e-02 -4.27418202e-02\n",
            "  -3.86550118e-02 -6.43782753e-03 -2.03619962e-02 -2.49408357e-02\n",
            "  -2.23063741e-02 -5.65808888e-02 -3.75643599e-02 -2.95140668e-02\n",
            "  -4.51096854e-02 -5.03436751e-02 -4.17573845e-02 -2.32176916e-02\n",
            "  -1.44721809e-01 -3.28436279e-02 -2.32176916e-02 -3.02092370e-02\n",
            "  -8.09277920e-02 -4.51096854e-02 -3.34699714e-02 -6.08454030e-02\n",
            "  -2.03619962e-02 -4.82312931e-02 -3.70070522e-02 -2.65526483e-02\n",
            "  -2.40946368e-02 -3.19812649e+00 -4.55686097e-02 -2.13562845e-02]\n",
            " [-3.32928720e-01 -9.03103201e-01 -4.43448804e-01 -1.47741199e-01\n",
            "  -2.18133078e-01 -7.92689135e-02 -2.71544113e-01  5.94119061e-01\n",
            "  -1.91434559e-01 -3.01204525e-01 -2.10629087e-01 -2.32176916e-02\n",
            "  -1.90151289e-01 -1.11634384e-01 -7.04007686e-02 -9.52624871e-02\n",
            "  -1.37855652e-01 -1.24792011e-01 -1.89682796e-01 -2.15412874e-01\n",
            "  -4.48047380e-01 -1.12770562e-01  1.44346052e+00 -2.37562786e-01\n",
            "  -3.86550118e-02 -1.35812535e-01 -5.33817501e-01 -2.65526483e-02\n",
            "   1.07057712e+00 -1.11253207e-01 -6.95336006e-01 -1.75754134e-01\n",
            "  -1.67042546e-01 -1.93166852e-02 -3.93202361e-01 -3.87916470e-01\n",
            "  -1.85898256e-01 -2.16988109e-01 -2.66405776e-01 -3.42627670e-01\n",
            "  -6.70527102e-02 -3.93834430e-01 -1.47971775e-01 -3.69239690e-01\n",
            "  -1.77500698e-01  4.27461860e+00 -5.85438209e-01 -1.74371044e-01\n",
            "  -4.20401452e-01 -3.43910000e-01 -2.21864400e-01 -1.73865699e-01\n",
            "  -3.19976356e-01 -8.93249439e-02  4.03052380e-01  6.92517562e-01\n",
            "  -6.05013509e-02 -4.82312931e-02 -4.27418202e-02 -5.76761792e-02\n",
            "  -4.90870497e-02 -3.15538279e-02 -5.83951091e-02 -5.43249599e-02\n",
            "  -2.95140668e-02 -6.48338595e-02 -3.22051588e-02 -4.27418202e-02\n",
            "  -3.86550118e-02 -6.43782753e-03 -2.03619962e-02 -2.49408357e-02\n",
            "  -2.23063741e-02 -5.65808888e-02 -3.75643599e-02 -2.95140668e-02\n",
            "  -4.51096854e-02 -5.03436751e-02 -4.17573845e-02 -2.32176916e-02\n",
            "  -1.44721809e-01 -3.28436279e-02 -2.32176916e-02 -3.02092370e-02\n",
            "  -8.09277920e-02 -4.51096854e-02 -3.34699714e-02 -6.08454030e-02\n",
            "  -2.03619962e-02 -4.82312931e-02 -3.70070522e-02 -2.65526483e-02\n",
            "  -2.40946368e-02  3.12683067e-01 -4.55686097e-02 -2.13562845e-02]\n",
            " [ 2.74172338e-01 -1.53794383e+00 -5.06738171e-02 -1.47741199e-01\n",
            "  -2.18133078e-01 -7.92689135e-02 -2.71544113e-01  5.94119061e-01\n",
            "  -1.91434559e-01 -3.01204525e-01 -2.10629087e-01 -2.32176916e-02\n",
            "  -1.90151289e-01 -1.11634384e-01 -7.04007686e-02 -9.52624871e-02\n",
            "  -1.37855652e-01 -1.24792011e-01 -1.89682796e-01 -2.15412874e-01\n",
            "  -4.48047380e-01 -1.12770562e-01 -6.92779599e-01 -2.37562786e-01\n",
            "  -3.86550118e-02 -1.35812535e-01  1.87329939e+00 -2.65526483e-02\n",
            "  -9.34075631e-01  8.98850490e+00 -6.95336006e-01 -1.75754134e-01\n",
            "  -1.67042546e-01 -1.93166852e-02 -3.93202361e-01 -3.87916470e-01\n",
            "  -1.85898256e-01 -2.16988109e-01 -2.66405776e-01 -3.42627670e-01\n",
            "  -6.70527102e-02  2.53913809e+00 -1.47971775e-01 -3.69239690e-01\n",
            "  -1.77500698e-01 -2.33939000e-01  1.70812220e+00 -1.74371044e-01\n",
            "  -4.20401452e-01 -3.43910000e-01 -2.21864400e-01 -1.73865699e-01\n",
            "  -3.19976356e-01 -8.93249439e-02  4.03052380e-01  6.92517562e-01\n",
            "  -6.05013509e-02 -4.82312931e-02 -4.27418202e-02 -5.76761792e-02\n",
            "  -4.90870497e-02 -3.15538279e-02 -5.83951091e-02 -5.43249599e-02\n",
            "  -2.95140668e-02 -6.48338595e-02 -3.22051588e-02 -4.27418202e-02\n",
            "  -3.86550118e-02 -6.43782753e-03 -2.03619962e-02 -2.49408357e-02\n",
            "  -2.23063741e-02 -5.65808888e-02 -3.75643599e-02 -2.95140668e-02\n",
            "  -4.51096854e-02 -5.03436751e-02 -4.17573845e-02 -2.32176916e-02\n",
            "  -1.44721809e-01 -3.28436279e-02 -2.32176916e-02 -3.02092370e-02\n",
            "  -8.09277920e-02 -4.51096854e-02 -3.34699714e-02 -6.08454030e-02\n",
            "  -2.03619962e-02 -4.82312931e-02 -3.70070522e-02 -2.65526483e-02\n",
            "  -2.40946368e-02  3.12683067e-01 -4.55686097e-02 -2.13562845e-02]\n",
            " [-1.81153455e-01 -1.46224907e+00 -5.06738171e-02 -1.47741199e-01\n",
            "  -2.18133078e-01  1.58479896e+00 -2.71544113e-01  5.94119061e-01\n",
            "  -1.91434559e-01 -3.01204525e-01 -2.10629087e-01 -2.32176916e-02\n",
            "  -1.90151289e-01 -1.11634384e-01 -7.04007686e-02 -9.52624871e-02\n",
            "  -1.37855652e-01 -1.24792011e-01 -1.89682796e-01 -2.15412874e-01\n",
            "  -4.48047380e-01 -1.12770562e-01 -6.92779599e-01 -2.37562786e-01\n",
            "  -3.86550118e-02 -1.35812535e-01  1.87329939e+00 -2.65526483e-02\n",
            "   1.07057712e+00 -1.11253207e-01 -6.95336006e-01 -1.75754134e-01\n",
            "  -1.67042546e-01 -1.93166852e-02 -3.93202361e-01  2.57787456e+00\n",
            "  -1.85898256e-01 -2.16988109e-01 -2.66405776e-01 -3.42627670e-01\n",
            "  -6.70527102e-02 -3.93834430e-01 -1.47971775e-01 -3.69239690e-01\n",
            "  -1.77500698e-01 -2.33939000e-01 -5.85438209e-01 -1.74371044e-01\n",
            "  -4.20401452e-01 -3.43910000e-01 -2.21864400e-01 -1.73865699e-01\n",
            "  -3.19976356e-01 -8.93249439e-02  4.03052380e-01  6.92517562e-01\n",
            "  -6.05013509e-02 -4.82312931e-02 -4.27418202e-02 -5.76761792e-02\n",
            "  -4.90870497e-02 -3.15538279e-02 -5.83951091e-02 -5.43249599e-02\n",
            "  -2.95140668e-02 -6.48338595e-02 -3.22051588e-02 -4.27418202e-02\n",
            "  -3.86550118e-02 -6.43782753e-03 -2.03619962e-02 -2.49408357e-02\n",
            "  -2.23063741e-02 -5.65808888e-02 -3.75643599e-02 -2.95140668e-02\n",
            "  -4.51096854e-02 -5.03436751e-02 -4.17573845e-02 -2.32176916e-02\n",
            "  -1.44721809e-01 -3.28436279e-02 -2.32176916e-02 -3.02092370e-02\n",
            "  -8.09277920e-02 -4.51096854e-02 -3.34699714e-02 -6.08454030e-02\n",
            "  -2.03619962e-02 -4.82312931e-02 -3.70070522e-02 -2.65526483e-02\n",
            "  -2.40946368e-02  3.12683067e-01 -4.55686097e-02 -2.13562845e-02]]\n"
          ]
        }
      ]
    }
  ]
}