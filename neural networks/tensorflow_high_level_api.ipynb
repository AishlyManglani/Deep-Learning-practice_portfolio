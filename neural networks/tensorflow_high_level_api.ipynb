{
  "nbformat": 4,
  "nbformat_minor": 0,
  "metadata": {
    "colab": {
      "provenance": [],
      "authorship_tag": "ABX9TyPcisFebjBl9AubXK/6SEgl",
      "include_colab_link": true
    },
    "kernelspec": {
      "name": "python3",
      "display_name": "Python 3"
    },
    "language_info": {
      "name": "python"
    }
  },
  "cells": [
    {
      "cell_type": "markdown",
      "metadata": {
        "id": "view-in-github",
        "colab_type": "text"
      },
      "source": [
        "<a href=\"https://colab.research.google.com/github/AishlyManglani/Deep-Learning_-CMPE258/blob/main/neural%20networks/tensorflow_high_level_api.ipynb\" target=\"_parent\"><img src=\"https://colab.research.google.com/assets/colab-badge.svg\" alt=\"Open In Colab\"/></a>"
      ]
    },
    {
      "cell_type": "code",
      "execution_count": 1,
      "metadata": {
        "id": "GSuVJwBUCy-2"
      },
      "outputs": [],
      "source": [
        "# Import necessary libraries\n",
        "import tensorflow as tf\n",
        "import numpy as np\n",
        "import matplotlib.pyplot as plt"
      ]
    },
    {
      "cell_type": "code",
      "source": [
        "# Generate synthetic data\n",
        "np.random.seed(0)\n",
        "X = np.random.rand(100, 3)  # 3 input features\n",
        "y = np.sin(X[:, 0]) + np.cos(X[:, 1]) + np.tanh(X[:, 2]) + np.random.normal(0, 0.1, 100)\n",
        "\n",
        "# Define the model using high-level API\n",
        "model = tf.keras.Sequential([\n",
        "    tf.keras.layers.Dense(5, activation='sigmoid', input_shape=(3,)),\n",
        "    tf.keras.layers.Dense(5, activation='sigmoid'),\n",
        "    tf.keras.layers.Dense(1, activation='sigmoid')\n",
        "])\n",
        "\n",
        "# Compile the model\n",
        "model.compile(optimizer='adam', loss='mean_squared_error')\n",
        "\n",
        "# Train the model\n",
        "history = model.fit(X, y, epochs=1000, verbose=0)"
      ],
      "metadata": {
        "colab": {
          "base_uri": "https://localhost:8080/"
        },
        "id": "VgKSJXhFQEFZ",
        "outputId": "9feca816-9e65-4099-f544-7b343390a36e"
      },
      "execution_count": 2,
      "outputs": [
        {
          "output_type": "stream",
          "name": "stderr",
          "text": [
            "/usr/local/lib/python3.11/dist-packages/keras/src/layers/core/dense.py:87: UserWarning: Do not pass an `input_shape`/`input_dim` argument to a layer. When using Sequential models, prefer using an `Input(shape)` object as the first layer in the model instead.\n",
            "  super().__init__(activity_regularizer=activity_regularizer, **kwargs)\n"
          ]
        }
      ]
    },
    {
      "cell_type": "code",
      "source": [
        "# Plotting the loss\n",
        "plt.plot(history.history['loss'])\n",
        "plt.title('Loss over epochs')\n",
        "plt.xlabel('Epochs')\n",
        "plt.ylabel('Loss')\n",
        "plt.show()\n",
        "\n",
        "# Final output\n",
        "print(\"Final output:\", model.predict(X))"
      ],
      "metadata": {
        "colab": {
          "base_uri": "https://localhost:8080/",
          "height": 1000
        },
        "id": "8scSLeq9QFmp",
        "outputId": "01112edb-69e4-4368-f395-1e8b0b90f753"
      },
      "execution_count": 3,
      "outputs": [
        {
          "output_type": "display_data",
          "data": {
            "text/plain": [
              "<Figure size 640x480 with 1 Axes>"
            ],
            "image/png": "[encoded data removed]"
          },
          "metadata": {}
        },
        {
          "output_type": "stream",
          "name": "stdout",
          "text": [
            "\u001b[1m4/4\u001b[0m \u001b[32m━━━━━━━━━━━━━━━━━━━━\u001b[0m\u001b[37m\u001b[0m \u001b[1m0s\u001b[0m 19ms/step\n",
            "Final output: [[0.99625003]\n",
            " [0.9962374 ]\n",
            " [0.99627876]\n",
            " [0.9962277 ]\n",
            " [0.9961941 ]\n",
            " [0.9961693 ]\n",
            " [0.9963007 ]\n",
            " [0.9962756 ]\n",
            " [0.99608827]\n",
            " [0.9962576 ]\n",
            " [0.9962004 ]\n",
            " [0.99620366]\n",
            " [0.99628043]\n",
            " [0.9962212 ]\n",
            " [0.9962305 ]\n",
            " [0.9961448 ]\n",
            " [0.9961924 ]\n",
            " [0.99618435]\n",
            " [0.9961703 ]\n",
            " [0.9961235 ]\n",
            " [0.99615633]\n",
            " [0.9960907 ]\n",
            " [0.99626386]\n",
            " [0.9961919 ]\n",
            " [0.9962905 ]\n",
            " [0.9959871 ]\n",
            " [0.99610096]\n",
            " [0.9961991 ]\n",
            " [0.99621135]\n",
            " [0.9962298 ]\n",
            " [0.9961353 ]\n",
            " [0.99617547]\n",
            " [0.99623585]\n",
            " [0.9961019 ]\n",
            " [0.9962436 ]\n",
            " [0.99624264]\n",
            " [0.99620575]\n",
            " [0.99624574]\n",
            " [0.9962815 ]\n",
            " [0.9962689 ]\n",
            " [0.99628484]\n",
            " [0.9962433 ]\n",
            " [0.99615353]\n",
            " [0.99618685]\n",
            " [0.99615556]\n",
            " [0.9962519 ]\n",
            " [0.9962723 ]\n",
            " [0.9962472 ]\n",
            " [0.99621487]\n",
            " [0.99630517]\n",
            " [0.9961308 ]\n",
            " [0.9962482 ]\n",
            " [0.99624634]\n",
            " [0.9961613 ]\n",
            " [0.9962973 ]\n",
            " [0.99619865]\n",
            " [0.99622345]\n",
            " [0.995921  ]\n",
            " [0.99620956]\n",
            " [0.99622035]\n",
            " [0.99619305]\n",
            " [0.9962291 ]\n",
            " [0.9962552 ]\n",
            " [0.9961177 ]\n",
            " [0.9962383 ]\n",
            " [0.9961425 ]\n",
            " [0.99609184]\n",
            " [0.9961816 ]\n",
            " [0.99613005]\n",
            " [0.9962608 ]\n",
            " [0.9962682 ]\n",
            " [0.9961839 ]\n",
            " [0.9961979 ]\n",
            " [0.99629074]\n",
            " [0.99615365]\n",
            " [0.99624646]\n",
            " [0.99625283]\n",
            " [0.9960553 ]\n",
            " [0.9961406 ]\n",
            " [0.9962085 ]\n",
            " [0.99623376]\n",
            " [0.9961631 ]\n",
            " [0.99612325]\n",
            " [0.996259  ]\n",
            " [0.9962924 ]\n",
            " [0.99617535]\n",
            " [0.996221  ]\n",
            " [0.9961886 ]\n",
            " [0.9962296 ]\n",
            " [0.99618804]\n",
            " [0.99627113]\n",
            " [0.99628913]\n",
            " [0.9962879 ]\n",
            " [0.9962789 ]\n",
            " [0.99615884]\n",
            " [0.99620163]\n",
            " [0.9962093 ]\n",
            " [0.99612945]\n",
            " [0.99610436]\n",
            " [0.99630666]]\n"
          ]
        }
      ]
    }
  ]
}