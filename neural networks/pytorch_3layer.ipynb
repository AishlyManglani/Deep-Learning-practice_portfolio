{
  "nbformat": 4,
  "nbformat_minor": 0,
  "metadata": {
    "colab": {
      "provenance": [],
      "authorship_tag": "ABX9TyOalyQypAIOPDMnYrXgy9m+",
      "include_colab_link": true
    },
    "kernelspec": {
      "name": "python3",
      "display_name": "Python 3"
    },
    "language_info": {
      "name": "python"
    }
  },
  "cells": [
    {
      "cell_type": "markdown",
      "metadata": {
        "id": "view-in-github",
        "colab_type": "text"
      },
      "source": [
        "<a href=\"https://colab.research.google.com/github/AishlyManglani/Deep-Learning_-CMPE258/blob/main/neural%20networks/pytorch_3layer.ipynb\" target=\"_parent\"><img src=\"https://colab.research.google.com/assets/colab-badge.svg\" alt=\"Open In Colab\"/></a>"
      ]
    },
    {
      "cell_type": "code",
      "source": [
        "# Import necessary libraries\n",
        "import torch\n",
        "import torch.nn.functional as F\n",
        "import matplotlib.pyplot as plt"
      ],
      "metadata": {
        "id": "g1VJ73c-FWZR"
      },
      "execution_count": 8,
      "outputs": []
    },
    {
      "cell_type": "code",
      "source": [
        "# Generate synthetic data\n",
        "torch.manual_seed(0)\n",
        "X = torch.rand(100, 3)  # 3 input features\n",
        "y = torch.sin(X[:, 0]) + torch.cos(X[:, 1]) + torch.tanh(X[:, 2]) + torch.normal(0, 0.1, (100,))\n",
        "\n",
        "# Initialize weights\n",
        "input_size = 3\n",
        "hidden_size1 = 5\n",
        "hidden_size2 = 5\n",
        "output_size = 1\n",
        "\n",
        "weights_input_hidden1 = torch.randn(input_size, hidden_size1, requires_grad=True)\n",
        "weights_hidden1_hidden2 = torch.randn(hidden_size1, hidden_size2, requires_grad=True)\n",
        "weights_hidden2_output = torch.randn(hidden_size2, output_size, requires_grad=True)\n",
        "\n",
        "# Training parameters\n",
        "learning_rate = 0.01\n",
        "epochs = 1000\n",
        "losses = []"
      ],
      "metadata": {
        "id": "5j4E8q-qFY8L"
      },
      "execution_count": 9,
      "outputs": []
    },
    {
      "cell_type": "code",
      "source": [
        "# Training loop\n",
        "for epoch in range(epochs):\n",
        "    # Forward pass\n",
        "    hidden1 = torch.sigmoid(X @ weights_input_hidden1)\n",
        "    hidden2 = torch.sigmoid(hidden1 @ weights_hidden1_hidden2)\n",
        "    output = torch.sigmoid(hidden2 @ weights_hidden2_output)\n",
        "\n",
        "    # Calculate loss (Mean Squared Error)\n",
        "    loss = F.mse_loss(output.squeeze(), y)\n",
        "    losses.append(loss.item())\n",
        "\n",
        "    # Backward pass\n",
        "    loss.backward()\n",
        "\n",
        "    # Update weights\n",
        "    with torch.no_grad():\n",
        "        weights_input_hidden1 -= learning_rate * weights_input_hidden1.grad\n",
        "        weights_hidden1_hidden2 -= learning_rate * weights_hidden1_hidden2.grad\n",
        "        weights_hidden2_output -= learning_rate * weights_hidden2_output.grad\n",
        "\n",
        "        # Zero gradients\n",
        "        weights_input_hidden1.grad.zero_()\n",
        "        weights_hidden1_hidden2.grad.zero_()\n",
        "        weights_hidden2_output.grad.zero_()"
      ],
      "metadata": {
        "id": "q9Xxjk5JFbXC"
      },
      "execution_count": 10,
      "outputs": []
    },
    {
      "cell_type": "code",
      "source": [
        "# Plotting the loss\n",
        "plt.plot(losses)\n",
        "plt.title('Loss over epochs')\n",
        "plt.xlabel('Epochs')\n",
        "plt.ylabel('Loss')\n",
        "plt.show()\n",
        "\n",
        "# Final output\n",
        "print(\"Final output:\", output)"
      ],
      "metadata": {
        "colab": {
          "base_uri": "https://localhost:8080/",
          "height": 1000
        },
        "id": "mLFHCaCKFdDk",
        "outputId": "0059e95f-34c7-4b7b-f748-85f48525d025"
      },
      "execution_count": 11,
      "outputs": [
        {
          "output_type": "display_data",
          "data": {
            "text/plain": [
              "<Figure size 640x480 with 1 Axes>"
            ],
            "image/png": "[encoded data removed]"
          },
          "metadata": {}
        },
        {
          "output_type": "stream",
          "name": "stdout",
          "text": [
            "Final output: tensor([[0.9712],\n",
            "        [0.9728],\n",
            "        [0.9736],\n",
            "        [0.9726],\n",
            "        [0.9702],\n",
            "        [0.9744],\n",
            "        [0.9729],\n",
            "        [0.9747],\n",
            "        [0.9745],\n",
            "        [0.9709],\n",
            "        [0.9717],\n",
            "        [0.9684],\n",
            "        [0.9741],\n",
            "        [0.9724],\n",
            "        [0.9702],\n",
            "        [0.9742],\n",
            "        [0.9739],\n",
            "        [0.9743],\n",
            "        [0.9734],\n",
            "        [0.9700],\n",
            "        [0.9725],\n",
            "        [0.9735],\n",
            "        [0.9743],\n",
            "        [0.9724],\n",
            "        [0.9752],\n",
            "        [0.9719],\n",
            "        [0.9696],\n",
            "        [0.9720],\n",
            "        [0.9728],\n",
            "        [0.9713],\n",
            "        [0.9748],\n",
            "        [0.9707],\n",
            "        [0.9718],\n",
            "        [0.9745],\n",
            "        [0.9689],\n",
            "        [0.9700],\n",
            "        [0.9722],\n",
            "        [0.9744],\n",
            "        [0.9723],\n",
            "        [0.9737],\n",
            "        [0.9724],\n",
            "        [0.9711],\n",
            "        [0.9715],\n",
            "        [0.9727],\n",
            "        [0.9739],\n",
            "        [0.9729],\n",
            "        [0.9751],\n",
            "        [0.9742],\n",
            "        [0.9733],\n",
            "        [0.9703],\n",
            "        [0.9708],\n",
            "        [0.9715],\n",
            "        [0.9724],\n",
            "        [0.9721],\n",
            "        [0.9710],\n",
            "        [0.9734],\n",
            "        [0.9740],\n",
            "        [0.9741],\n",
            "        [0.9726],\n",
            "        [0.9708],\n",
            "        [0.9742],\n",
            "        [0.9743],\n",
            "        [0.9700],\n",
            "        [0.9750],\n",
            "        [0.9701],\n",
            "        [0.9729],\n",
            "        [0.9727],\n",
            "        [0.9712],\n",
            "        [0.9723],\n",
            "        [0.9742],\n",
            "        [0.9732],\n",
            "        [0.9732],\n",
            "        [0.9736],\n",
            "        [0.9742],\n",
            "        [0.9711],\n",
            "        [0.9722],\n",
            "        [0.9727],\n",
            "        [0.9751],\n",
            "        [0.9738],\n",
            "        [0.9728],\n",
            "        [0.9733],\n",
            "        [0.9706],\n",
            "        [0.9729],\n",
            "        [0.9728],\n",
            "        [0.9722],\n",
            "        [0.9728],\n",
            "        [0.9702],\n",
            "        [0.9750],\n",
            "        [0.9725],\n",
            "        [0.9744],\n",
            "        [0.9686],\n",
            "        [0.9701],\n",
            "        [0.9730],\n",
            "        [0.9717],\n",
            "        [0.9735],\n",
            "        [0.9739],\n",
            "        [0.9711],\n",
            "        [0.9736],\n",
            "        [0.9737],\n",
            "        [0.9719]], grad_fn=<SigmoidBackward0>)\n"
          ]
        }
      ]
    }
  ]
}