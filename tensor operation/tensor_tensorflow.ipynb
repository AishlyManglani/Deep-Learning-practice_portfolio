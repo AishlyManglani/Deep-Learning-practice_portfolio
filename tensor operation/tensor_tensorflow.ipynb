{
  "nbformat": 4,
  "nbformat_minor": 0,
  "metadata": {
    "colab": {
      "provenance": [],
      "authorship_tag": "ABX9TyPwlt9m3nxAs3QU0R+o5+JH",
      "include_colab_link": true
    },
    "kernelspec": {
      "name": "python3",
      "display_name": "Python 3"
    },
    "language_info": {
      "name": "python"
    }
  },
  "cells": [
    {
      "cell_type": "markdown",
      "metadata": {
        "id": "view-in-github",
        "colab_type": "text"
      },
      "source": [
        "<a href=\"https://colab.research.google.com/github/AishlyManglani/Deep-Learning_-CMPE258/blob/main/tensor%20operation/tensor_tensorflow.ipynb\" target=\"_parent\"><img src=\"https://colab.research.google.com/assets/colab-badge.svg\" alt=\"Open In Colab\"/></a>"
      ]
    },
    {
      "cell_type": "code",
      "execution_count": 1,
      "metadata": {
        "id": "OFxxQjJoapBr"
      },
      "outputs": [],
      "source": [
        "import tensorflow as tf\n",
        "import numpy as np\n",
        "\n"
      ]
    },
    {
      "cell_type": "code",
      "source": [
        "# Tensor Creation\n",
        "scalar = tf.constant(5)\n",
        "vector = tf.constant([1, 2, 3])\n",
        "matrix = tf.constant([[1, 2], [3, 4]])\n",
        "tensor_3d = tf.constant([[[1, 2], [3, 4]], [[5, 6], [7, 8]]])\n",
        "\n",
        "print(f\"Scalar:, {scalar}\")\n",
        "print(f\"Vector:, {vector}\")\n",
        "print(f\"Matrix:, {matrix}\")\n",
        "print(f\"3D Tensor:, {tensor_3d}\")"
      ],
      "metadata": {
        "colab": {
          "base_uri": "https://localhost:8080/"
        },
        "id": "cWFMDAyqavqZ",
        "outputId": "e0e4c926-6c8f-4d6f-b38c-c5a584c342d7"
      },
      "execution_count": 10,
      "outputs": [
        {
          "output_type": "stream",
          "name": "stdout",
          "text": [
            "Scalar:, 5\n",
            "Vector:, [1 2 3]\n",
            "Matrix:, [[1 2]\n",
            " [3 4]]\n",
            "3D Tensor:, [[[1 2]\n",
            "  [3 4]]\n",
            "\n",
            " [[5 6]\n",
            "  [7 8]]]\n"
          ]
        }
      ]
    },
    {
      "cell_type": "code",
      "source": [
        "# Basic Tensor Operations\n",
        "a = tf.constant([[1, 2], [3, 4]])\n",
        "b = tf.constant([[5, 6], [7, 8]])\n",
        "\n",
        "add = tf.add(a, b)\n",
        "sub = tf.subtract(a, b)\n",
        "mul = tf.multiply(a, b)\n",
        "div = tf.divide(a, b)\n",
        "\n",
        "einsum_example = tf.einsum('ij, jk -> ik', a, tf.transpose(b))  # Einstein Summation\n",
        "\n",
        "print(\"Addition:\\n\", add.numpy())\n",
        "print(\"Subtraction:\\n\", sub.numpy())\n",
        "print(\"Multiplication:\\n\", mul.numpy())\n",
        "print(\"Division:\\n\", div.numpy())\n",
        "print(\"Einsum Example (Matrix Multiplication):\\n\", einsum_example.numpy())"
      ],
      "metadata": {
        "colab": {
          "base_uri": "https://localhost:8080/"
        },
        "id": "qaukRGcQax5R",
        "outputId": "ddd9090a-5043-4041-a24e-3d2ab441f013"
      },
      "execution_count": 3,
      "outputs": [
        {
          "output_type": "stream",
          "name": "stdout",
          "text": [
            "Addition:\n",
            " [[ 6  8]\n",
            " [10 12]]\n",
            "Subtraction:\n",
            " [[-4 -4]\n",
            " [-4 -4]]\n",
            "Multiplication:\n",
            " [[ 5 12]\n",
            " [21 32]]\n",
            "Division:\n",
            " [[0.2        0.33333333]\n",
            " [0.42857143 0.5       ]]\n",
            "Einsum Example (Matrix Multiplication):\n",
            " [[17 23]\n",
            " [39 53]]\n"
          ]
        }
      ]
    },
    {
      "cell_type": "code",
      "source": [
        "# Dot product of vectors\n",
        "v1 = tf.constant([1., 2., 3.])\n",
        "v2 = tf.constant([4., 5., 6.])\n",
        "print(\"\\nDot product using einsum:\")\n",
        "print(tf.einsum('i,i->', v1, v2))\n",
        "\n",
        "# Outer product\n",
        "print(\"\\nOuter product using einsum:\")\n",
        "print(tf.einsum('i,j->ij', v1, v2))\n",
        "\n",
        "# Batch matrix multiplication\n",
        "batch1 = tf.constant([[[1,2],[3,4]], [[5,6],[7,8]]])\n",
        "batch2 = tf.constant([[[9,10],[11,12]], [[13,14],[15,16]]])\n",
        "print(\"\\nBatch matrix multiplication using einsum:\")\n",
        "print(tf.einsum('bij,bjk->bik', batch1, batch2))"
      ],
      "metadata": {
        "colab": {
          "base_uri": "https://localhost:8080/"
        },
        "id": "mAyVeBhKsBED",
        "outputId": "b9c53077-750e-454e-83f3-f1c521ee83b3"
      },
      "execution_count": 11,
      "outputs": [
        {
          "output_type": "stream",
          "name": "stdout",
          "text": [
            "\n",
            "Dot product using einsum:\n",
            "tf.Tensor(32.0, shape=(), dtype=float32)\n",
            "\n",
            "Outer product using einsum:\n",
            "tf.Tensor(\n",
            "[[ 4.  5.  6.]\n",
            " [ 8. 10. 12.]\n",
            " [12. 15. 18.]], shape=(3, 3), dtype=float32)\n",
            "\n",
            "Batch matrix multiplication using einsum:\n",
            "tf.Tensor(\n",
            "[[[ 31  34]\n",
            "  [ 71  78]]\n",
            "\n",
            " [[155 166]\n",
            "  [211 226]]], shape=(2, 2, 2), dtype=int32)\n"
          ]
        }
      ]
    },
    {
      "cell_type": "code",
      "source": [
        "# Reshaping and Transposing\n",
        "reshaped = tf.reshape(a, (1, 4))\n",
        "transposed = tf.transpose(a)\n",
        "print(\"Reshaped Tensor:\\n\", reshaped.numpy())\n",
        "print(\"Transposed Tensor:\\n\", transposed.numpy())\n"
      ],
      "metadata": {
        "colab": {
          "base_uri": "https://localhost:8080/"
        },
        "id": "eGq47s7Bazfa",
        "outputId": "53091679-951b-4464-e577-f5d1c839dd25"
      },
      "execution_count": 4,
      "outputs": [
        {
          "output_type": "stream",
          "name": "stdout",
          "text": [
            "Reshaped Tensor:\n",
            " [[1 2 3 4]]\n",
            "Transposed Tensor:\n",
            " [[1 3]\n",
            " [2 4]]\n"
          ]
        }
      ]
    },
    {
      "cell_type": "code",
      "source": [
        "# Broadcasting Example\n",
        "x = tf.constant([[1], [2], [3]])\n",
        "y = tf.constant([4, 5, 6])\n",
        "broadcasted_add = x + y\n",
        "print(\"Broadcasted Addition:\\n\", broadcasted_add.numpy())"
      ],
      "metadata": {
        "colab": {
          "base_uri": "https://localhost:8080/"
        },
        "id": "PlnBliiWa09R",
        "outputId": "43fa6a4b-529a-4f19-e241-9f3d6cb6e0ee"
      },
      "execution_count": 5,
      "outputs": [
        {
          "output_type": "stream",
          "name": "stdout",
          "text": [
            "Broadcasted Addition:\n",
            " [[5 6 7]\n",
            " [6 7 8]\n",
            " [7 8 9]]\n"
          ]
        }
      ]
    },
    {
      "cell_type": "code",
      "source": [
        "# Advanced Tensor Operations\n",
        "softmax = tf.nn.softmax(tf.cast(a, tf.float32), axis=1) # Cast tensor 'a' to tf.float32\n",
        "exp = tf.exp(tf.cast(a, tf.float32))\n",
        "log = tf.math.log(tf.cast(a, tf.float32))\n",
        "sqrt = tf.math.sqrt(tf.cast(a, tf.float32))\n",
        "\n",
        "print(\"Softmax:\\n\", softmax.numpy())\n",
        "print(\"Exponential:\\n\", exp.numpy())\n",
        "print(\"Logarithm:\\n\", log.numpy())\n",
        "print(\"Square Root:\\n\", sqrt.numpy())\n"
      ],
      "metadata": {
        "colab": {
          "base_uri": "https://localhost:8080/"
        },
        "id": "dKjAVbpQa2ar",
        "outputId": "3a94c79a-0b63-4dc0-f13d-672275847135"
      },
      "execution_count": 7,
      "outputs": [
        {
          "output_type": "stream",
          "name": "stdout",
          "text": [
            "Softmax:\n",
            " [[0.26894143 0.7310586 ]\n",
            " [0.26894143 0.7310586 ]]\n",
            "Exponential:\n",
            " [[ 2.7182817  7.389056 ]\n",
            " [20.085537  54.59815  ]]\n",
            "Logarithm:\n",
            " [[0.        0.6931472]\n",
            " [1.0986123 1.3862944]]\n",
            "Square Root:\n",
            " [[1.        1.4142135]\n",
            " [1.7320508 2.       ]]\n"
          ]
        }
      ]
    }
  ]
}