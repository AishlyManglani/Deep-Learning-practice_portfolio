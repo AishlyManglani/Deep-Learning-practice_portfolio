{
  "nbformat": 4,
  "nbformat_minor": 0,
  "metadata": {
    "colab": {
      "provenance": [],
      "authorship_tag": "ABX9TyOHZ8Rw3QPDDidTK6dz5Bs6",
      "include_colab_link": true
    },
    "kernelspec": {
      "name": "python3",
      "display_name": "Python 3"
    },
    "language_info": {
      "name": "python"
    }
  },
  "cells": [
    {
      "cell_type": "markdown",
      "metadata": {
        "id": "view-in-github",
        "colab_type": "text"
      },
      "source": [
        "<a href=\"https://colab.research.google.com/github/AishlyManglani/Deep-Learning_-CMPE258/blob/main/tensor%20operation/tensor_pytorch.ipynb\" target=\"_parent\"><img src=\"https://colab.research.google.com/assets/colab-badge.svg\" alt=\"Open In Colab\"/></a>"
      ]
    },
    {
      "cell_type": "code",
      "execution_count": 1,
      "metadata": {
        "id": "zqGiZTHFlrII"
      },
      "outputs": [],
      "source": [
        "import torch\n",
        "import numpy as np"
      ]
    },
    {
      "cell_type": "code",
      "source": [
        "# Tensor Creation\n",
        "scalar = torch.tensor(100)\n",
        "vector = torch.tensor([1, 2, 3])\n",
        "matrix = torch.tensor([[1, 2], [3, 4]])\n",
        "tensor_3d = torch.tensor([[[1, 2], [3, 4]], [[5, 6], [7, 8]]])\n",
        "\n",
        "print(\"Scalar:\", scalar)\n",
        "print(\"Vector:\", vector)\n",
        "print(\"Matrix:\", matrix)\n",
        "print(\"3D Tensor:\", tensor_3d)"
      ],
      "metadata": {
        "colab": {
          "base_uri": "https://localhost:8080/"
        },
        "id": "5KMjPpDOluMg",
        "outputId": "bd60e3d3-67d8-45d7-9343-faef242a38d6"
      },
      "execution_count": 5,
      "outputs": [
        {
          "output_type": "stream",
          "name": "stdout",
          "text": [
            "Scalar: tensor(100)\n",
            "Vector: tensor([1, 2, 3])\n",
            "Matrix: tensor([[1, 2],\n",
            "        [3, 4]])\n",
            "3D Tensor: tensor([[[1, 2],\n",
            "         [3, 4]],\n",
            "\n",
            "        [[5, 6],\n",
            "         [7, 8]]])\n"
          ]
        }
      ]
    },
    {
      "cell_type": "code",
      "source": [
        "# Basic Tensor Operations\n",
        "a = torch.tensor([[1, 2], [3, 4]])\n",
        "b = torch.tensor([[5, 6], [7, 8]])\n",
        "\n",
        "add = a + b\n",
        "sub = a - b\n",
        "mul = a * b\n",
        "div = a / b\n",
        "\n",
        "einsum_example = torch.einsum('ij, jk -> ik', [a, b.T])  # Einstein Summation\n",
        "\n",
        "print(\"Addition:\\n\", add)\n",
        "print(\"Subtraction:\\n\", sub)\n",
        "print(\"Multiplication:\\n\", mul)\n",
        "print(\"Division:\\n\", div)\n",
        "print(\"Einsum Example (Matrix Multiplication):\\n\", einsum_example)"
      ],
      "metadata": {
        "colab": {
          "base_uri": "https://localhost:8080/"
        },
        "id": "KswELATZlx9s",
        "outputId": "3e66605c-6352-411f-9498-4af54812440e"
      },
      "execution_count": 6,
      "outputs": [
        {
          "output_type": "stream",
          "name": "stdout",
          "text": [
            "Addition:\n",
            " tensor([[ 6,  8],\n",
            "        [10, 12]])\n",
            "Subtraction:\n",
            " tensor([[-4, -4],\n",
            "        [-4, -4]])\n",
            "Multiplication:\n",
            " tensor([[ 5, 12],\n",
            "        [21, 32]])\n",
            "Division:\n",
            " tensor([[0.2000, 0.3333],\n",
            "        [0.4286, 0.5000]])\n",
            "Einsum Example (Matrix Multiplication):\n",
            " tensor([[17, 23],\n",
            "        [39, 53]])\n"
          ]
        }
      ]
    },
    {
      "cell_type": "code",
      "source": [
        "# Reshaping and Transposing\n",
        "reshaped = a.view(1, 4)\n",
        "transposed = a.T\n",
        "print(\"Reshaped Tensor:\\n\", reshaped)\n",
        "print(\"Transposed Tensor:\\n\", transposed)"
      ],
      "metadata": {
        "colab": {
          "base_uri": "https://localhost:8080/"
        },
        "id": "4L2uuOwMl1AY",
        "outputId": "3a340c4b-1995-48db-b0a1-6ac8adb9363e"
      },
      "execution_count": 7,
      "outputs": [
        {
          "output_type": "stream",
          "name": "stdout",
          "text": [
            "Reshaped Tensor:\n",
            " tensor([[1, 2, 3, 4]])\n",
            "Transposed Tensor:\n",
            " tensor([[1, 3],\n",
            "        [2, 4]])\n"
          ]
        }
      ]
    },
    {
      "cell_type": "code",
      "source": [
        "# Broadcasting Example\n",
        "x = torch.tensor([[1], [2], [3]])\n",
        "y = torch.tensor([4, 5, 6])\n",
        "broadcasted_add = x + y\n",
        "print(\"Broadcasted Addition:\\n\", broadcasted_add)"
      ],
      "metadata": {
        "colab": {
          "base_uri": "https://localhost:8080/"
        },
        "id": "x7vNKokrl3FQ",
        "outputId": "f22594ca-1049-4c3b-c2ec-9c66cb321080"
      },
      "execution_count": 8,
      "outputs": [
        {
          "output_type": "stream",
          "name": "stdout",
          "text": [
            "Broadcasted Addition:\n",
            " tensor([[5, 6, 7],\n",
            "        [6, 7, 8],\n",
            "        [7, 8, 9]])\n"
          ]
        }
      ]
    },
    {
      "cell_type": "code",
      "source": [
        "# Advanced Tensor Operations\n",
        "softmax = torch.nn.functional.softmax(a.float(), dim=1)\n",
        "exp = torch.exp(a.float())\n",
        "log = torch.log(a.float())\n",
        "sqrt = torch.sqrt(a.float())\n",
        "\n",
        "print(\"Softmax:\\n\", softmax)\n",
        "print(\"Exponential:\\n\", exp)\n",
        "print(\"Logarithm:\\n\", log)\n",
        "print(\"Square Root:\\n\", sqrt)"
      ],
      "metadata": {
        "colab": {
          "base_uri": "https://localhost:8080/"
        },
        "id": "Q-heS_tml5E9",
        "outputId": "6f2cf785-aeca-4fc1-9cba-fba63c4270b1"
      },
      "execution_count": 9,
      "outputs": [
        {
          "output_type": "stream",
          "name": "stdout",
          "text": [
            "Softmax:\n",
            " tensor([[0.2689, 0.7311],\n",
            "        [0.2689, 0.7311]])\n",
            "Exponential:\n",
            " tensor([[ 2.7183,  7.3891],\n",
            "        [20.0855, 54.5981]])\n",
            "Logarithm:\n",
            " tensor([[0.0000, 0.6931],\n",
            "        [1.0986, 1.3863]])\n",
            "Square Root:\n",
            " tensor([[1.0000, 1.4142],\n",
            "        [1.7321, 2.0000]])\n"
          ]
        }
      ]
    },
    {
      "cell_type": "code",
      "source": [
        "# Additional Tensor Operations\n",
        "inverse = torch.linalg.inv(a.float()) if a.shape[0] == a.shape[1] else \"Not Square\"\n",
        "outer_product = torch.ger(vector, vector)\n",
        "cumsum = torch.cumsum(a, dim=0)\n",
        "cumprod = torch.cumprod(a, dim=0)\n",
        "flip = torch.flip(a, dims=[0])\n",
        "\n",
        "def custom_function(x):\n",
        "    return x**3 + 2*x + 1\n",
        "\n",
        "custom_applied = custom_function(a.float())\n",
        "\n",
        "print(\"Inverse:\\n\", inverse)\n",
        "print(\"Outer Product:\\n\", outer_product)\n",
        "print(\"Cumulative Sum:\\n\", cumsum)\n",
        "print(\"Cumulative Product:\\n\", cumprod)\n",
        "print(\"Flipped Tensor:\\n\", flip)\n",
        "print(\"Custom Function Applied:\\n\", custom_applied)"
      ],
      "metadata": {
        "colab": {
          "base_uri": "https://localhost:8080/"
        },
        "id": "Sitd-DpKuER5",
        "outputId": "8f4d2223-d51a-4bd5-cd8c-e1b9a5bc985a"
      },
      "execution_count": 11,
      "outputs": [
        {
          "output_type": "stream",
          "name": "stdout",
          "text": [
            "Inverse:\n",
            " tensor([[-2.0000,  1.0000],\n",
            "        [ 1.5000, -0.5000]])\n",
            "Outer Product:\n",
            " tensor([[1, 2, 3],\n",
            "        [2, 4, 6],\n",
            "        [3, 6, 9]])\n",
            "Cumulative Sum:\n",
            " tensor([[1, 2],\n",
            "        [4, 6]])\n",
            "Cumulative Product:\n",
            " tensor([[1, 2],\n",
            "        [3, 8]])\n",
            "Flipped Tensor:\n",
            " tensor([[3, 4],\n",
            "        [1, 2]])\n",
            "Custom Function Applied:\n",
            " tensor([[ 4., 13.],\n",
            "        [34., 73.]])\n"
          ]
        }
      ]
    }
  ]
}